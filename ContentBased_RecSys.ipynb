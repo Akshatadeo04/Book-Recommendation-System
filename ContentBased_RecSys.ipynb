{
 "cells": [
  {
   "cell_type": "code",
   "execution_count": 1,
   "metadata": {},
   "outputs": [],
   "source": [
    "import pandas as pd\n",
    "\n",
    "book_ratings = pd.read_csv('C:/Akshata/Courses/summer19/large_scale_analytics/Individual_project/BX-CSV-Dump/BX-Book-Ratings.csv',\n",
    "                        error_bad_lines=False, engine=\"python\", index_col=False, delimiter=\";\", quoting = 3)\n",
    "book_ratings.columns = ['userid', 'ISBN', 'BookRatings']\n",
    "\n",
    "books_info = pd.read_csv('C:/Akshata/Courses/summer19/large_scale_analytics/Individual_project/BX-CSV-Dump/BX-Books.csv',\n",
    "                        error_bad_lines=False, engine=\"python\",index_col=False, delimiter=\";\", quoting = 3)\n",
    "books_info.drop(books_info.columns[[5,6,7]], axis = 1, inplace=True)\n",
    "books_info.columns = ['ISBN', 'BookTitle', 'BookAuthor', 'YearOfPublication', 'Publisher']\n"
   ]
  },
  {
   "cell_type": "code",
   "execution_count": 2,
   "metadata": {},
   "outputs": [],
   "source": [
    "from sklearn import preprocessing\n",
    "le = preprocessing.LabelEncoder()\n",
    "\n",
    "books_info.ISBN = le.fit_transform(books_info.ISBN)\n",
    "books_info.BookAuthor = le.fit_transform(books_info.BookAuthor)\n",
    "books_info.YearOfPublication = le.fit_transform(books_info.YearOfPublication)\n",
    "books_info.Publisher = le.fit_transform(books_info.Publisher)\n",
    "\n",
    "\n",
    "book_ratings.userid = le.fit_transform(book_ratings.userid)\n",
    "book_ratings.ISBN = le.fit_transform(book_ratings.ISBN)\n",
    "book_ratings.BookRatings = le.fit_transform(book_ratings.BookRatings)"
   ]
  },
  {
   "cell_type": "code",
   "execution_count": 3,
   "metadata": {},
   "outputs": [
    {
     "data": {
      "text/html": [
       "<div>\n",
       "<style scoped>\n",
       "    .dataframe tbody tr th:only-of-type {\n",
       "        vertical-align: middle;\n",
       "    }\n",
       "\n",
       "    .dataframe tbody tr th {\n",
       "        vertical-align: top;\n",
       "    }\n",
       "\n",
       "    .dataframe thead th {\n",
       "        text-align: right;\n",
       "    }\n",
       "</style>\n",
       "<table border=\"1\" class=\"dataframe\">\n",
       "  <thead>\n",
       "    <tr style=\"text-align: right;\">\n",
       "      <th></th>\n",
       "      <th>userid</th>\n",
       "      <th>ISBN</th>\n",
       "      <th>BookRatings</th>\n",
       "    </tr>\n",
       "  </thead>\n",
       "  <tbody>\n",
       "    <tr>\n",
       "      <th>0</th>\n",
       "      <td>73842</td>\n",
       "      <td>57188</td>\n",
       "      <td>0</td>\n",
       "    </tr>\n",
       "    <tr>\n",
       "      <th>1</th>\n",
       "      <td>73843</td>\n",
       "      <td>29750</td>\n",
       "      <td>6</td>\n",
       "    </tr>\n",
       "    <tr>\n",
       "      <th>2</th>\n",
       "      <td>73844</td>\n",
       "      <td>107392</td>\n",
       "      <td>0</td>\n",
       "    </tr>\n",
       "    <tr>\n",
       "      <th>3</th>\n",
       "      <td>73845</td>\n",
       "      <td>127253</td>\n",
       "      <td>4</td>\n",
       "    </tr>\n",
       "    <tr>\n",
       "      <th>4</th>\n",
       "      <td>73845</td>\n",
       "      <td>127287</td>\n",
       "      <td>7</td>\n",
       "    </tr>\n",
       "  </tbody>\n",
       "</table>\n",
       "</div>"
      ],
      "text/plain": [
       "   userid    ISBN  BookRatings\n",
       "0   73842   57188            0\n",
       "1   73843   29750            6\n",
       "2   73844  107392            0\n",
       "3   73845  127253            4\n",
       "4   73845  127287            7"
      ]
     },
     "execution_count": 3,
     "metadata": {},
     "output_type": "execute_result"
    }
   ],
   "source": [
    "book_ratings.head()"
   ]
  },
  {
   "cell_type": "code",
   "execution_count": 4,
   "metadata": {
    "scrolled": true
   },
   "outputs": [
    {
     "data": {
      "text/html": [
       "<div>\n",
       "<style scoped>\n",
       "    .dataframe tbody tr th:only-of-type {\n",
       "        vertical-align: middle;\n",
       "    }\n",
       "\n",
       "    .dataframe tbody tr th {\n",
       "        vertical-align: top;\n",
       "    }\n",
       "\n",
       "    .dataframe thead th {\n",
       "        text-align: right;\n",
       "    }\n",
       "</style>\n",
       "<table border=\"1\" class=\"dataframe\">\n",
       "  <thead>\n",
       "    <tr style=\"text-align: right;\">\n",
       "      <th></th>\n",
       "      <th>ISBN</th>\n",
       "      <th>BookTitle</th>\n",
       "      <th>BookAuthor</th>\n",
       "      <th>YearOfPublication</th>\n",
       "      <th>Publisher</th>\n",
       "    </tr>\n",
       "  </thead>\n",
       "  <tbody>\n",
       "    <tr>\n",
       "      <th>0</th>\n",
       "      <td>25030</td>\n",
       "      <td>\"Classical Mythology\"</td>\n",
       "      <td>68446</td>\n",
       "      <td>566</td>\n",
       "      <td>10846</td>\n",
       "    </tr>\n",
       "    <tr>\n",
       "      <th>1</th>\n",
       "      <td>73</td>\n",
       "      <td>\"Clara Callan\"</td>\n",
       "      <td>84385</td>\n",
       "      <td>565</td>\n",
       "      <td>6600</td>\n",
       "    </tr>\n",
       "    <tr>\n",
       "      <th>2</th>\n",
       "      <td>8212</td>\n",
       "      <td>\"Decision in Normandy\"</td>\n",
       "      <td>17047</td>\n",
       "      <td>555</td>\n",
       "      <td>6603</td>\n",
       "    </tr>\n",
       "    <tr>\n",
       "      <th>3</th>\n",
       "      <td>60203</td>\n",
       "      <td>\"Flu: The Story of the Great Influenza Pandemi...</td>\n",
       "      <td>38208</td>\n",
       "      <td>563</td>\n",
       "      <td>5260</td>\n",
       "    </tr>\n",
       "    <tr>\n",
       "      <th>4</th>\n",
       "      <td>71716</td>\n",
       "      <td>\"The Mummies of Urumchi\"</td>\n",
       "      <td>29206</td>\n",
       "      <td>563</td>\n",
       "      <td>15610</td>\n",
       "    </tr>\n",
       "  </tbody>\n",
       "</table>\n",
       "</div>"
      ],
      "text/plain": [
       "    ISBN                                          BookTitle  BookAuthor  \\\n",
       "0  25030                              \"Classical Mythology\"       68446   \n",
       "1     73                                     \"Clara Callan\"       84385   \n",
       "2   8212                             \"Decision in Normandy\"       17047   \n",
       "3  60203  \"Flu: The Story of the Great Influenza Pandemi...       38208   \n",
       "4  71716                           \"The Mummies of Urumchi\"       29206   \n",
       "\n",
       "   YearOfPublication  Publisher  \n",
       "0                566      10846  \n",
       "1                565       6600  \n",
       "2                555       6603  \n",
       "3                563       5260  \n",
       "4                563      15610  "
      ]
     },
     "execution_count": 4,
     "metadata": {},
     "output_type": "execute_result"
    }
   ],
   "source": [
    "books_info.head()"
   ]
  },
  {
   "cell_type": "code",
   "execution_count": 5,
   "metadata": {},
   "outputs": [],
   "source": [
    "def pick_top_book(user):\n",
    "    temp_df = book_ratings[book_ratings.userid == user]\n",
    "    temp_df.sort_values(by='BookRatings', ascending=False)\n",
    "    temp_df = temp_df.iloc[0]\n",
    "    temp_dff = books_info[books_info['ISBN'] == temp_df['ISBN']]\n",
    "    return temp_dff"
   ]
  },
  {
   "cell_type": "code",
   "execution_count": 6,
   "metadata": {},
   "outputs": [
    {
     "name": "stdout",
     "output_type": "stream",
     "text": [
      "Following are the recommended books, based on content based filtering approach:\n",
      "\"Passionate Possession\"\n",
      "\"Yesterday's Echoes\"\n",
      "\"Desire Never Changes\"\n",
      "\"A Reason For Marriage (Harlequin Collector's Edition)\"\n",
      "\"Stranger From The Past (Harlequin Collector's Edition)\"\n"
     ]
    }
   ],
   "source": [
    "from sklearn.metrics.pairwise import cosine_similarity\n",
    "import numpy as np    \n",
    "    \n",
    "def contentbasedFiltering(user):\n",
    "    temp_dff = pick_top_book(user)\n",
    "    priority = []\n",
    "    for test_index, item in books_info.iterrows():\n",
    "        if item.ISBN == temp_dff.ISBN.values:\n",
    "            continue\n",
    "        else:\n",
    "            temp = []\n",
    "            y = np.array([item['ISBN'], item['BookAuthor'], item['YearOfPublication'], item['Publisher']]).reshape(1,-1)\n",
    "            x = [temp_dff['ISBN'].values, temp_dff['BookAuthor'].values, temp_dff['YearOfPublication'].values, temp_dff['Publisher'].values]\n",
    "            x = np.array(x).reshape(1,-1)\n",
    "            mat = cosine_similarity(x,y)\n",
    "            sim = mat[0][0]\n",
    "            temp.append(item.BookTitle)\n",
    "            temp.append(sim)\n",
    "            priority.append(temp)\n",
    "    priority.sort(key=lambda x:x[1])\n",
    "    priority = priority[::-1]\n",
    "    print(\"Following are the recommended books, based on content based filtering approach:\")\n",
    "    for i in range (0,5):\n",
    "        print(priority[i][0])\n",
    "    \n",
    "contentbasedFiltering(73842)"
   ]
  },
  {
   "cell_type": "code",
   "execution_count": null,
   "metadata": {},
   "outputs": [],
   "source": []
  }
 ],
 "metadata": {
  "kernelspec": {
   "display_name": "Python 3",
   "language": "python",
   "name": "python3"
  },
  "language_info": {
   "codemirror_mode": {
    "name": "ipython",
    "version": 3
   },
   "file_extension": ".py",
   "mimetype": "text/x-python",
   "name": "python",
   "nbconvert_exporter": "python",
   "pygments_lexer": "ipython3",
   "version": "3.7.1"
  }
 },
 "nbformat": 4,
 "nbformat_minor": 2
}
