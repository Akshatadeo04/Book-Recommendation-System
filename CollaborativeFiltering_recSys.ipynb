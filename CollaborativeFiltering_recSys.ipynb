{
 "cells": [
  {
   "cell_type": "code",
   "execution_count": 1,
   "metadata": {},
   "outputs": [],
   "source": [
    "import pandas as pd\n",
    "\n",
    "users_info = pd.read_csv('C:/Akshata/Courses/summer19/large_scale_analytics/Individual_project/BX-CSV-Dump/BX-Users.csv',\n",
    "                        sep='delimiter', error_bad_lines=False, engine=\"python\",index_col=False, delimiter=\";\", quoting = 3)\n",
    "\n",
    "users_info = users_info.dropna(axis=0, subset=['\"Location\"','\"Age\"'])\n",
    "users_info.columns = ['userid', 'Location', 'Age']\n",
    "\n",
    "books_info = pd.read_csv('C:/Akshata/Courses/summer19/large_scale_analytics/Individual_project/BX-CSV-Dump/BX-Books.csv',\n",
    "                        error_bad_lines=False, engine=\"python\",index_col=False, delimiter=\";\", quoting = 3)\n",
    "books_info.drop(books_info.columns[[5,6,7]], axis = 1, inplace=True)\n",
    "books_info.columns = ['ISBN', 'BookTitle', 'BookAuthor', 'YearOfPublication', 'Publisher']"
   ]
  },
  {
   "cell_type": "code",
   "execution_count": 2,
   "metadata": {},
   "outputs": [],
   "source": [
    "from sklearn import preprocessing\n",
    "le = preprocessing.LabelEncoder()\n",
    "\n",
    "users_info.userid = le.fit_transform(users_info.userid)\n",
    "users_info.Location = le.fit_transform(users_info.Location)\n",
    "users_info.Age = le.fit_transform(users_info.Age)\n",
    "\n",
    "books_info.ISBN = le.fit_transform(books_info.ISBN)\n",
    "books_info.BookAuthor = le.fit_transform(books_info.BookAuthor)\n",
    "books_info.YearOfPublication = le.fit_transform(books_info.YearOfPublication)\n",
    "books_info.Publisher = le.fit_transform(books_info.Publisher)"
   ]
  },
  {
   "cell_type": "code",
   "execution_count": 3,
   "metadata": {},
   "outputs": [
    {
     "data": {
      "text/html": [
       "<div>\n",
       "<style scoped>\n",
       "    .dataframe tbody tr th:only-of-type {\n",
       "        vertical-align: middle;\n",
       "    }\n",
       "\n",
       "    .dataframe tbody tr th {\n",
       "        vertical-align: top;\n",
       "    }\n",
       "\n",
       "    .dataframe thead th {\n",
       "        text-align: right;\n",
       "    }\n",
       "</style>\n",
       "<table border=\"1\" class=\"dataframe\">\n",
       "  <thead>\n",
       "    <tr style=\"text-align: right;\">\n",
       "      <th></th>\n",
       "      <th>userid</th>\n",
       "      <th>Location</th>\n",
       "      <th>Age</th>\n",
       "    </tr>\n",
       "  </thead>\n",
       "  <tbody>\n",
       "    <tr>\n",
       "      <th>1</th>\n",
       "      <td>67130</td>\n",
       "      <td>35119</td>\n",
       "      <td>56</td>\n",
       "    </tr>\n",
       "    <tr>\n",
       "      <th>3</th>\n",
       "      <td>127721</td>\n",
       "      <td>29187</td>\n",
       "      <td>53</td>\n",
       "    </tr>\n",
       "    <tr>\n",
       "      <th>5</th>\n",
       "      <td>141147</td>\n",
       "      <td>32351</td>\n",
       "      <td>127</td>\n",
       "    </tr>\n",
       "    <tr>\n",
       "      <th>9</th>\n",
       "      <td>0</td>\n",
       "      <td>767</td>\n",
       "      <td>88</td>\n",
       "    </tr>\n",
       "    <tr>\n",
       "      <th>10</th>\n",
       "      <td>6768</td>\n",
       "      <td>22853</td>\n",
       "      <td>37</td>\n",
       "    </tr>\n",
       "  </tbody>\n",
       "</table>\n",
       "</div>"
      ],
      "text/plain": [
       "    userid  Location  Age\n",
       "1    67130     35119   56\n",
       "3   127721     29187   53\n",
       "5   141147     32351  127\n",
       "9        0       767   88\n",
       "10    6768     22853   37"
      ]
     },
     "execution_count": 3,
     "metadata": {},
     "output_type": "execute_result"
    }
   ],
   "source": [
    "users_info.head()"
   ]
  },
  {
   "cell_type": "code",
   "execution_count": 4,
   "metadata": {},
   "outputs": [
    {
     "data": {
      "text/html": [
       "<div>\n",
       "<style scoped>\n",
       "    .dataframe tbody tr th:only-of-type {\n",
       "        vertical-align: middle;\n",
       "    }\n",
       "\n",
       "    .dataframe tbody tr th {\n",
       "        vertical-align: top;\n",
       "    }\n",
       "\n",
       "    .dataframe thead th {\n",
       "        text-align: right;\n",
       "    }\n",
       "</style>\n",
       "<table border=\"1\" class=\"dataframe\">\n",
       "  <thead>\n",
       "    <tr style=\"text-align: right;\">\n",
       "      <th></th>\n",
       "      <th>ISBN</th>\n",
       "      <th>BookTitle</th>\n",
       "      <th>BookAuthor</th>\n",
       "      <th>YearOfPublication</th>\n",
       "      <th>Publisher</th>\n",
       "    </tr>\n",
       "  </thead>\n",
       "  <tbody>\n",
       "    <tr>\n",
       "      <th>0</th>\n",
       "      <td>25030</td>\n",
       "      <td>\"Classical Mythology\"</td>\n",
       "      <td>68446</td>\n",
       "      <td>566</td>\n",
       "      <td>10846</td>\n",
       "    </tr>\n",
       "    <tr>\n",
       "      <th>1</th>\n",
       "      <td>73</td>\n",
       "      <td>\"Clara Callan\"</td>\n",
       "      <td>84385</td>\n",
       "      <td>565</td>\n",
       "      <td>6600</td>\n",
       "    </tr>\n",
       "    <tr>\n",
       "      <th>2</th>\n",
       "      <td>8212</td>\n",
       "      <td>\"Decision in Normandy\"</td>\n",
       "      <td>17047</td>\n",
       "      <td>555</td>\n",
       "      <td>6603</td>\n",
       "    </tr>\n",
       "    <tr>\n",
       "      <th>3</th>\n",
       "      <td>60203</td>\n",
       "      <td>\"Flu: The Story of the Great Influenza Pandemi...</td>\n",
       "      <td>38208</td>\n",
       "      <td>563</td>\n",
       "      <td>5260</td>\n",
       "    </tr>\n",
       "    <tr>\n",
       "      <th>4</th>\n",
       "      <td>71716</td>\n",
       "      <td>\"The Mummies of Urumchi\"</td>\n",
       "      <td>29206</td>\n",
       "      <td>563</td>\n",
       "      <td>15610</td>\n",
       "    </tr>\n",
       "  </tbody>\n",
       "</table>\n",
       "</div>"
      ],
      "text/plain": [
       "    ISBN                                          BookTitle  BookAuthor  \\\n",
       "0  25030                              \"Classical Mythology\"       68446   \n",
       "1     73                                     \"Clara Callan\"       84385   \n",
       "2   8212                             \"Decision in Normandy\"       17047   \n",
       "3  60203  \"Flu: The Story of the Great Influenza Pandemi...       38208   \n",
       "4  71716                           \"The Mummies of Urumchi\"       29206   \n",
       "\n",
       "   YearOfPublication  Publisher  \n",
       "0                566      10846  \n",
       "1                565       6600  \n",
       "2                555       6603  \n",
       "3                563       5260  \n",
       "4                563      15610  "
      ]
     },
     "execution_count": 4,
     "metadata": {},
     "output_type": "execute_result"
    }
   ],
   "source": [
    "books_info.head()"
   ]
  },
  {
   "cell_type": "code",
   "execution_count": 5,
   "metadata": {},
   "outputs": [],
   "source": [
    "from sklearn.metrics.pairwise import cosine_similarity\n",
    "import numpy as np"
   ]
  },
  {
   "cell_type": "code",
   "execution_count": 6,
   "metadata": {},
   "outputs": [
    {
     "name": "stdout",
     "output_type": "stream",
     "text": [
      "Following are the recommended books, based on user based collaborative filtering approach:\n",
      "\"The Viscount Who Loved Me\"\n",
      "\"Heart Of Gold (Silhouette Romance, No 586)\"\n",
      "\"The Old Gringo : A Novel\"\n",
      "\"The Wrong Woman  (Twins)\"\n",
      "\"Take off the masks\"\n"
     ]
    }
   ],
   "source": [
    "def collaborative_filtering(user):\n",
    "    priority = []\n",
    "    target_user_info = users_info[users_info.userid == user]\n",
    "    for test_index, item in users_info.iterrows():\n",
    "        if(item.userid == user):\n",
    "            continue\n",
    "        else:\n",
    "            temp = []\n",
    "            x = [target_user_info['userid'].values, target_user_info['Location'].values, target_user_info['Age'].values]\n",
    "            x = np.array(x).reshape(1,-1)\n",
    "            y = [item['userid'], item['Location'], item['Age']]\n",
    "            y = np.array(y).reshape(1,-1)\n",
    "            mat = cosine_similarity(x,y)\n",
    "            sim = mat[0][0]\n",
    "            temp.append(item.userid)\n",
    "            temp.append(sim)\n",
    "            priority.append(temp)\n",
    "    priority.sort(key=lambda x:x[1])\n",
    "    priority = priority[::-1] \n",
    "    print(\"Following are the recommended books, based on user based collaborative filtering approach:\")\n",
    "    for i in range (0,5):\n",
    "        row = books_info[books_info.ISBN == priority[i][0]]\n",
    "        print(row.BookTitle.values[0])\n",
    "    \n",
    "collaborative_filtering(67130)"
   ]
  },
  {
   "cell_type": "code",
   "execution_count": null,
   "metadata": {},
   "outputs": [],
   "source": []
  }
 ],
 "metadata": {
  "kernelspec": {
   "display_name": "Python 3",
   "language": "python",
   "name": "python3"
  },
  "language_info": {
   "codemirror_mode": {
    "name": "ipython",
    "version": 3
   },
   "file_extension": ".py",
   "mimetype": "text/x-python",
   "name": "python",
   "nbconvert_exporter": "python",
   "pygments_lexer": "ipython3",
   "version": "3.7.1"
  }
 },
 "nbformat": 4,
 "nbformat_minor": 2
}
